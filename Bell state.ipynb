{
 "cells": [
  {
   "cell_type": "code",
   "execution_count": 1,
   "id": "bda03181",
   "metadata": {},
   "outputs": [],
   "source": [
    "import numpy as np\n",
    "from qiskit import QuantumCircuit\n",
    "from qiskit import ClassicalRegister, QuantumRegister"
   ]
  },
  {
   "cell_type": "code",
   "execution_count": 2,
   "id": "79d0c241",
   "metadata": {},
   "outputs": [],
   "source": [
    "# 회로 만들어주기\n",
    "# 양자 회로 정의\n",
    "q = QuantumRegister(2, 'q')\n",
    "# 고전 회로 정의\n",
    "c = ClassicalRegister(2, 'c')\n",
    "# 회로 구성\n",
    "circ = QuantumCircuit(q, c) # q, c는 숫자"
   ]
  },
  {
   "cell_type": "code",
   "execution_count": 3,
   "id": "f763badc",
   "metadata": {},
   "outputs": [
    {
     "data": {
      "image/png": "[encoded data removed]",
      "text/plain": [
       "<Figure size 116.552x204.68 with 1 Axes>"
      ]
     },
     "execution_count": 3,
     "metadata": {},
     "output_type": "execute_result"
    }
   ],
   "source": [
    "circ.draw('mpl')"
   ]
  },
  {
   "cell_type": "code",
   "execution_count": 4,
   "id": "55f36613",
   "metadata": {},
   "outputs": [
    {
     "data": {
      "text/plain": [
       "<qiskit.circuit.instructionset.InstructionSet at 0x1c3fd35d5d0>"
      ]
     },
     "execution_count": 4,
     "metadata": {},
     "output_type": "execute_result"
    }
   ],
   "source": [
    "# 게이트 작용하기\n",
    "circ.h(0)\n",
    "circ.cx(0, 1)"
   ]
  },
  {
   "cell_type": "code",
   "execution_count": 5,
   "id": "2a30cf66",
   "metadata": {},
   "outputs": [
    {
     "data": {
      "image/png": "[encoded data removed]",
      "text/plain": [
       "<Figure size 206.852x204.68 with 1 Axes>"
      ]
     },
     "execution_count": 5,
     "metadata": {},
     "output_type": "execute_result"
    }
   ],
   "source": [
    "circ.draw('mpl')"
   ]
  },
  {
   "cell_type": "code",
   "execution_count": 6,
   "id": "861e4957",
   "metadata": {
    "scrolled": true
   },
   "outputs": [
    {
     "data": {
      "text/latex": [
       "$$\\frac{\\sqrt{2}}{2} |00\\rangle+\\frac{\\sqrt{2}}{2} |11\\rangle$$"
      ],
      "text/plain": [
       "<IPython.core.display.Latex object>"
      ]
     },
     "execution_count": 6,
     "metadata": {},
     "output_type": "execute_result"
    }
   ],
   "source": [
    "from qiskit.quantum_info import Statevector\n",
    "\n",
    "state = Statevector.from_int(0, 2**2)\n",
    "state = state.evolve(circ)\n",
    "state.draw('latex')"
   ]
  },
  {
   "cell_type": "code",
   "execution_count": 7,
   "id": "4c81a338",
   "metadata": {},
   "outputs": [
    {
     "name": "stdout",
     "output_type": "stream",
     "text": [
      "{'11': 4087, '00': 4105}\n"
     ]
    },
    {
     "data": {
      "image/png": "[encoded data removed]",
      "text/plain": [
       "<Figure size 216x180 with 1 Axes>"
      ]
     },
     "execution_count": 7,
     "metadata": {},
     "output_type": "execute_result"
    }
   ],
   "source": [
    "from qiskit import BasicAer, execute\n",
    "from qiskit.visualization import plot_histogram, plot_state_city\n",
    "\n",
    "# 측정\n",
    "circ.barrier()\n",
    "circ.measure(q[0], c[0])\n",
    "circ.measure(q[1], c[1])\n",
    "\n",
    "# 시뮬레이터 결정, 반복 측정\n",
    "backend = BasicAer.get_backend('qasm_simulator')\n",
    "shots = 8192\n",
    "job_exp = execute(circ, backend=backend, shots=shots)\n",
    "\n",
    "result = job_exp.result()\n",
    "counts_exp = result.get_counts(circ)\n",
    "print(result.get_counts(circ))\n",
    "plot_histogram(counts_exp, figsize=(3,2.5))"
   ]
  },
  {
   "cell_type": "code",
   "execution_count": null,
   "id": "33358d37",
   "metadata": {},
   "outputs": [],
   "source": []
  }
 ],
 "metadata": {
  "kernelspec": {
   "display_name": "my_qiskit",
   "language": "python",
   "name": "torch1.9"
  },
  "language_info": {
   "codemirror_mode": {
    "name": "ipython",
    "version": 3
   },
   "file_extension": ".py",
   "mimetype": "text/x-python",
   "name": "python",
   "nbconvert_exporter": "python",
   "pygments_lexer": "ipython3",
   "version": "3.10.4"
  }
 },
 "nbformat": 4,
 "nbformat_minor": 5
}
